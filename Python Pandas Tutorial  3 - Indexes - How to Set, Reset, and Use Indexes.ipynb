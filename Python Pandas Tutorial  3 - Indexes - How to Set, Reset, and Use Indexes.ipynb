{
 "cells": [
  {
   "cell_type": "markdown",
   "metadata": {},
   "source": [
    "# Python Pandas Tutorial - Indexes - How to Set, Reset, and Use Indexes\n",
    "\n",
    "Indexing in Pandas :\n",
    "\n",
    "Indexing in pandas means simply selecting particular rows and columns of data from a DataFrame. Indexing could mean selecting all the rows and some of the columns, some of the rows and all of the columns, or some of each of the rows and columns. Indexing can also be known as Subset Selection.\n",
    "\n",
    "See the Pandas documentation from this links:\n",
    "https://pandas.pydata.org/pandas-docs/stable/user_guide/indexing.html\n",
    "\n",
    "https://pandas.pydata.org/pandas-docs/stable/reference/api/pandas.Index.html\n",
    "\n",
    "\n",
    "The dataset used in this Pandas Tutorial can be in this link - (i.e, 2019 data in csv file) - https://insights.stackoverflow.com/survey\n"
   ]
  },
  {
   "cell_type": "code",
   "execution_count": 17,
   "metadata": {},
   "outputs": [],
   "source": [
    "#This represent DataFrame with multiple values (people)\n",
    "#keys are the columns and values are the rows\n",
    "people = { \n",
    "           \"first\": [ \"Michael\", 'Jane', 'John'], \n",
    "           \"last\": [\"Alabi\", 'Doe', 'Done'], \n",
    "           \"email\": [\"MichaelAlabi@gmail.com\", 'JaneDoe1@hotmail.com', 'JohnDone@yahoomail.com']\n",
    "         }"
   ]
  },
  {
   "cell_type": "code",
   "execution_count": 18,
   "metadata": {},
   "outputs": [],
   "source": [
    "import pandas as pd"
   ]
  },
  {
   "cell_type": "code",
   "execution_count": 19,
   "metadata": {},
   "outputs": [],
   "source": [
    "df = pd.DataFrame(people)"
   ]
  },
  {
   "cell_type": "code",
   "execution_count": 20,
   "metadata": {},
   "outputs": [
    {
     "data": {
      "text/html": [
       "<div>\n",
       "<style scoped>\n",
       "    .dataframe tbody tr th:only-of-type {\n",
       "        vertical-align: middle;\n",
       "    }\n",
       "\n",
       "    .dataframe tbody tr th {\n",
       "        vertical-align: top;\n",
       "    }\n",
       "\n",
       "    .dataframe thead th {\n",
       "        text-align: right;\n",
       "    }\n",
       "</style>\n",
       "<table border=\"1\" class=\"dataframe\">\n",
       "  <thead>\n",
       "    <tr style=\"text-align: right;\">\n",
       "      <th></th>\n",
       "      <th>first</th>\n",
       "      <th>last</th>\n",
       "      <th>email</th>\n",
       "    </tr>\n",
       "  </thead>\n",
       "  <tbody>\n",
       "    <tr>\n",
       "      <td>0</td>\n",
       "      <td>Michael</td>\n",
       "      <td>Alabi</td>\n",
       "      <td>MichaelAlabi@gmail.com</td>\n",
       "    </tr>\n",
       "    <tr>\n",
       "      <td>1</td>\n",
       "      <td>Jane</td>\n",
       "      <td>Doe</td>\n",
       "      <td>JaneDoe1@hotmail.com</td>\n",
       "    </tr>\n",
       "    <tr>\n",
       "      <td>2</td>\n",
       "      <td>John</td>\n",
       "      <td>Done</td>\n",
       "      <td>JohnDone@yahoomail.com</td>\n",
       "    </tr>\n",
       "  </tbody>\n",
       "</table>\n",
       "</div>"
      ],
      "text/plain": [
       "     first   last                   email\n",
       "0  Michael  Alabi  MichaelAlabi@gmail.com\n",
       "1     Jane    Doe    JaneDoe1@hotmail.com\n",
       "2     John   Done  JohnDone@yahoomail.com"
      ]
     },
     "execution_count": 20,
     "metadata": {},
     "output_type": "execute_result"
    }
   ],
   "source": [
    "df"
   ]
  },
  {
   "cell_type": "code",
   "execution_count": 21,
   "metadata": {},
   "outputs": [
    {
     "data": {
      "text/plain": [
       "0    MichaelAlabi@gmail.com\n",
       "1      JaneDoe1@hotmail.com\n",
       "2    JohnDone@yahoomail.com\n",
       "Name: email, dtype: object"
      ]
     },
     "execution_count": 21,
     "metadata": {},
     "output_type": "execute_result"
    }
   ],
   "source": [
    "# The column without a name of the far left is referred to as \"index\" i.e. 0, 1, 2 - it is default index\n",
    "# This is a range of number that is basically an 'integer identifiers' for the row.\n",
    "# It will make sense to have different indentifier for each column which become the label for the row\n",
    "# It is usually unique, but Pandas usually does not force index being unique and sometimes it could be\n",
    "\n",
    "# For this tutorial, 'email' will be a good index for this data because it is unique value for most people. \n",
    "\n",
    "df['email']"
   ]
  },
  {
   "cell_type": "code",
   "execution_count": 22,
   "metadata": {},
   "outputs": [
    {
     "data": {
      "text/html": [
       "<div>\n",
       "<style scoped>\n",
       "    .dataframe tbody tr th:only-of-type {\n",
       "        vertical-align: middle;\n",
       "    }\n",
       "\n",
       "    .dataframe tbody tr th {\n",
       "        vertical-align: top;\n",
       "    }\n",
       "\n",
       "    .dataframe thead th {\n",
       "        text-align: right;\n",
       "    }\n",
       "</style>\n",
       "<table border=\"1\" class=\"dataframe\">\n",
       "  <thead>\n",
       "    <tr style=\"text-align: right;\">\n",
       "      <th></th>\n",
       "      <th>first</th>\n",
       "      <th>last</th>\n",
       "    </tr>\n",
       "    <tr>\n",
       "      <th>email</th>\n",
       "      <th></th>\n",
       "      <th></th>\n",
       "    </tr>\n",
       "  </thead>\n",
       "  <tbody>\n",
       "    <tr>\n",
       "      <td>MichaelAlabi@gmail.com</td>\n",
       "      <td>Michael</td>\n",
       "      <td>Alabi</td>\n",
       "    </tr>\n",
       "    <tr>\n",
       "      <td>JaneDoe1@hotmail.com</td>\n",
       "      <td>Jane</td>\n",
       "      <td>Doe</td>\n",
       "    </tr>\n",
       "    <tr>\n",
       "      <td>JohnDone@yahoomail.com</td>\n",
       "      <td>John</td>\n",
       "      <td>Done</td>\n",
       "    </tr>\n",
       "  </tbody>\n",
       "</table>\n",
       "</div>"
      ],
      "text/plain": [
       "                          first   last\n",
       "email                                 \n",
       "MichaelAlabi@gmail.com  Michael  Alabi\n",
       "JaneDoe1@hotmail.com       Jane    Doe\n",
       "JohnDone@yahoomail.com     John   Done"
      ]
     },
     "execution_count": 22,
     "metadata": {},
     "output_type": "execute_result"
    }
   ],
   "source": [
    "# if we would like to set the 'email' as the index for the DataFrame, we will use 'df.set_index'\n",
    "\n",
    "df.set_index('email')  #it replace the index column"
   ]
  },
  {
   "cell_type": "code",
   "execution_count": 23,
   "metadata": {},
   "outputs": [
    {
     "data": {
      "text/html": [
       "<div>\n",
       "<style scoped>\n",
       "    .dataframe tbody tr th:only-of-type {\n",
       "        vertical-align: middle;\n",
       "    }\n",
       "\n",
       "    .dataframe tbody tr th {\n",
       "        vertical-align: top;\n",
       "    }\n",
       "\n",
       "    .dataframe thead th {\n",
       "        text-align: right;\n",
       "    }\n",
       "</style>\n",
       "<table border=\"1\" class=\"dataframe\">\n",
       "  <thead>\n",
       "    <tr style=\"text-align: right;\">\n",
       "      <th></th>\n",
       "      <th>first</th>\n",
       "      <th>last</th>\n",
       "      <th>email</th>\n",
       "    </tr>\n",
       "  </thead>\n",
       "  <tbody>\n",
       "    <tr>\n",
       "      <td>0</td>\n",
       "      <td>Michael</td>\n",
       "      <td>Alabi</td>\n",
       "      <td>MichaelAlabi@gmail.com</td>\n",
       "    </tr>\n",
       "    <tr>\n",
       "      <td>1</td>\n",
       "      <td>Jane</td>\n",
       "      <td>Doe</td>\n",
       "      <td>JaneDoe1@hotmail.com</td>\n",
       "    </tr>\n",
       "    <tr>\n",
       "      <td>2</td>\n",
       "      <td>John</td>\n",
       "      <td>Done</td>\n",
       "      <td>JohnDone@yahoomail.com</td>\n",
       "    </tr>\n",
       "  </tbody>\n",
       "</table>\n",
       "</div>"
      ],
      "text/plain": [
       "     first   last                   email\n",
       "0  Michael  Alabi  MichaelAlabi@gmail.com\n",
       "1     Jane    Doe    JaneDoe1@hotmail.com\n",
       "2     John   Done  JohnDone@yahoomail.com"
      ]
     },
     "execution_count": 23,
     "metadata": {},
     "output_type": "execute_result"
    }
   ],
   "source": [
    "# However, if we print the data frame again, it will return the previous DataFrame because pandas don't do lots of this changes\n",
    " \n",
    "df"
   ]
  },
  {
   "cell_type": "code",
   "execution_count": 24,
   "metadata": {},
   "outputs": [],
   "source": [
    "# However, if we print the data frame again, it will return the previous DataFrame because pandas don't do lots of this changes\n",
    "# Unless It unless we instruct or specifically state it to do so\n",
    "# We can specifically have the default index change to 'email', \n",
    "# Making 'email' a unique value by having the the email carry over to the future cell\n",
    "\n",
    "df.set_index('email', inplace = True)\n",
    " "
   ]
  },
  {
   "cell_type": "code",
   "execution_count": 25,
   "metadata": {},
   "outputs": [
    {
     "data": {
      "text/html": [
       "<div>\n",
       "<style scoped>\n",
       "    .dataframe tbody tr th:only-of-type {\n",
       "        vertical-align: middle;\n",
       "    }\n",
       "\n",
       "    .dataframe tbody tr th {\n",
       "        vertical-align: top;\n",
       "    }\n",
       "\n",
       "    .dataframe thead th {\n",
       "        text-align: right;\n",
       "    }\n",
       "</style>\n",
       "<table border=\"1\" class=\"dataframe\">\n",
       "  <thead>\n",
       "    <tr style=\"text-align: right;\">\n",
       "      <th></th>\n",
       "      <th>first</th>\n",
       "      <th>last</th>\n",
       "    </tr>\n",
       "    <tr>\n",
       "      <th>email</th>\n",
       "      <th></th>\n",
       "      <th></th>\n",
       "    </tr>\n",
       "  </thead>\n",
       "  <tbody>\n",
       "    <tr>\n",
       "      <td>MichaelAlabi@gmail.com</td>\n",
       "      <td>Michael</td>\n",
       "      <td>Alabi</td>\n",
       "    </tr>\n",
       "    <tr>\n",
       "      <td>JaneDoe1@hotmail.com</td>\n",
       "      <td>Jane</td>\n",
       "      <td>Doe</td>\n",
       "    </tr>\n",
       "    <tr>\n",
       "      <td>JohnDone@yahoomail.com</td>\n",
       "      <td>John</td>\n",
       "      <td>Done</td>\n",
       "    </tr>\n",
       "  </tbody>\n",
       "</table>\n",
       "</div>"
      ],
      "text/plain": [
       "                          first   last\n",
       "email                                 \n",
       "MichaelAlabi@gmail.com  Michael  Alabi\n",
       "JaneDoe1@hotmail.com       Jane    Doe\n",
       "JohnDone@yahoomail.com     John   Done"
      ]
     },
     "execution_count": 25,
     "metadata": {},
     "output_type": "execute_result"
    }
   ],
   "source": [
    "df"
   ]
  },
  {
   "cell_type": "code",
   "execution_count": 26,
   "metadata": {},
   "outputs": [
    {
     "data": {
      "text/plain": [
       "Index(['MichaelAlabi@gmail.com', 'JaneDoe1@hotmail.com',\n",
       "       'JohnDone@yahoomail.com'],\n",
       "      dtype='object', name='email')"
      ]
     },
     "execution_count": 26,
     "metadata": {},
     "output_type": "execute_result"
    }
   ],
   "source": [
    "# Now the email has become a unique value or identifier for the row instead of the 'default index'\n",
    "# Now email is the index to identify each detail in each row\n",
    "\n",
    "# To check the current index using 'df.index'\n",
    "df.index"
   ]
  },
  {
   "cell_type": "code",
   "execution_count": 28,
   "metadata": {},
   "outputs": [
    {
     "data": {
      "text/plain": [
       "first    Michael\n",
       "last       Alabi\n",
       "Name: MichaelAlabi@gmail.com, dtype: object"
      ]
     },
     "execution_count": 28,
     "metadata": {},
     "output_type": "execute_result"
    }
   ],
   "source": [
    "# Why the email as index?\n",
    "# Email as the index gives us a unique identifier for the row\n",
    "\n",
    "# Before in the last Tutorial, we access each row using the index as lable e.g df.loc[0] \n",
    "# But now we can use email as unique value to access the row\n",
    "# This provides the details of the person with the specific email 'MichaelAlabi@gmail.com' in that row\n",
    "\n",
    "df.loc['MichaelAlabi@gmail.com']    "
   ]
  },
  {
   "cell_type": "code",
   "execution_count": 29,
   "metadata": {},
   "outputs": [
    {
     "data": {
      "text/plain": [
       "'Alabi'"
      ]
     },
     "execution_count": 29,
     "metadata": {},
     "output_type": "execute_result"
    }
   ],
   "source": [
    "# We can access specific rows and passing the value for specific column as well,\n",
    "df.loc['MichaelAlabi@gmail.com', 'last']"
   ]
  },
  {
   "cell_type": "code",
   "execution_count": 33,
   "metadata": {},
   "outputs": [],
   "source": [
    "# If we want to access the previous index using the previous lable, it will give us error that is \"df.loc[0]\"\n",
    "\n",
    "#You can try it out to see the error.\n"
   ]
  },
  {
   "cell_type": "code",
   "execution_count": 32,
   "metadata": {},
   "outputs": [
    {
     "data": {
      "text/plain": [
       "first    Michael\n",
       "last       Alabi\n",
       "Name: MichaelAlabi@gmail.com, dtype: object"
      ]
     },
     "execution_count": 32,
     "metadata": {},
     "output_type": "execute_result"
    }
   ],
   "source": [
    "# But if we use the \"iloc\", it will still return the previous index with the previous label\n",
    "\n",
    "df.iloc[0]"
   ]
  },
  {
   "cell_type": "markdown",
   "metadata": {},
   "source": [
    "Reset the New Index to Previous \n",
    "#If you set the index and want to reset it using 'Index Reset Method'\n",
    "\n"
   ]
  },
  {
   "cell_type": "code",
   "execution_count": null,
   "metadata": {},
   "outputs": [],
   "source": []
  },
  {
   "cell_type": "code",
   "execution_count": null,
   "metadata": {},
   "outputs": [],
   "source": []
  }
 ],
 "metadata": {
  "kernelspec": {
   "display_name": "Python 3",
   "language": "python",
   "name": "python3"
  }
 },
 "nbformat": 4,
 "nbformat_minor": 4
}
